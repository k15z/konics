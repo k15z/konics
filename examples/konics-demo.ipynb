{
 "cells": [
  {
   "cell_type": "markdown",
   "metadata": {
    "collapsed": true
   },
   "source": [
    "# Konics Demo\n",
    "The `konics` package primarily consists of the [track api (demo)](/notebooks/track-api.ipynb) and the [drive api (demo)](/notebooks/drive-api.ipynb). The Track API provides an object-oriented interface for designing tracks and rendering them from arbitrary viewpoints while the Drive API create a virtual \"car\" which can drive around on a Track. Check out the demos (see above links) to see how these API's work.\n",
    "\n",
    "I am currently planning a Simulation API which unifies the Track and Drive APIs and provides a reinforcement learning environment with rewards and stuff. It will work something like shown below, but has not been implemented yet:\n",
    "\n",
    "```\n",
    "sim = Simulation(map_file=\"cool_map.json\")\n",
    "while sim.running():\n",
    "    state = sim.state()\n",
    "    reward = sim.action(steering=0.1)\n",
    "```"
   ]
  }
 ],
 "metadata": {
  "anaconda-cloud": {},
  "kernelspec": {
   "display_name": "Python [conda root]",
   "language": "python",
   "name": "conda-root-py"
  },
  "language_info": {
   "codemirror_mode": {
    "name": "ipython",
    "version": 3
   },
   "file_extension": ".py",
   "mimetype": "text/x-python",
   "name": "python",
   "nbconvert_exporter": "python",
   "pygments_lexer": "ipython3",
   "version": "3.5.2"
  }
 },
 "nbformat": 4,
 "nbformat_minor": 1
}
