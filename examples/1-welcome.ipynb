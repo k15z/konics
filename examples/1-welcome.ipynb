{
 "cells": [
  {
   "cell_type": "markdown",
   "metadata": {
    "collapsed": true
   },
   "source": [
    "# 1 - Welcome\n",
    "The `konics` package consists of the [track api](/notebooks/2-track-api.ipynb), [drive api](/notebooks/3-drive-api.ipynb), and the [parametrics api](/notebooks/4-parametrics.ipynb). The Track API provides a simple object oriented interface for creating tracks and rendering them from arbitrary viewpoints. The Drive API creates a virtual \"car\" which can drive around Tracks. Finally, the advanced Parametrics API makes it possible to create tracks using parametric equations."
   ]
  },
  {
   "cell_type": "code",
   "execution_count": 1,
   "metadata": {
    "collapsed": true
   },
   "outputs": [],
   "source": [
    "from konics import *"
   ]
  }
 ],
 "metadata": {
  "anaconda-cloud": {},
  "kernelspec": {
   "display_name": "Python [conda root]",
   "language": "python",
   "name": "conda-root-py"
  },
  "language_info": {
   "codemirror_mode": {
    "name": "ipython",
    "version": 3
   },
   "file_extension": ".py",
   "mimetype": "text/x-python",
   "name": "python",
   "nbconvert_exporter": "python",
   "pygments_lexer": "ipython3",
   "version": "3.5.2"
  }
 },
 "nbformat": 4,
 "nbformat_minor": 1
}
